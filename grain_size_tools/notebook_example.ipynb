{
 "cells": [
  {
   "cell_type": "markdown",
   "metadata": {},
   "source": [
    "# Using the GrainSizeTools script through Jupyter notebook: a step-by-step example\n",
    "\n",
    "> IMPORTANT NOTE: This Jupyter notebook example only applies to GrainSizeTools v3.0+ Please check your script version before using this notebook. You will be able to reproduce all the results shown in this tutorial using the dataset provided with the script, the ```file data_set.txt```\n",
    "\n",
    "## Running the script\n",
    "\n",
    "The first step when working with Jupyter notebooks is to run the script. For this we use the following code snippet:"
   ]
  },
  {
   "cell_type": "code",
   "execution_count": 1,
   "metadata": {},
   "outputs": [
    {
     "name": "stdout",
     "output_type": "stream",
     "text": [
      "module plot imported\n",
      "module averages imported\n",
      "module stereology imported\n",
      "module piezometers imported\n",
      "module template imported\n",
      "\n",
      "======================================================================================\n",
      "Welcome to GrainSizeTools script\n",
      "======================================================================================\n",
      "GrainSizeTools is a free open-source cross-platform script to visualize and characterize\n",
      "the grain size in polycrystalline materials and estimate differential stress via\n",
      "paleopizometers.\n",
      "\n",
      "Version: v3.0beta3 (2020-05-xx)\n",
      "Documentation: https://marcoalopez.github.io/GrainSizeTools/\n",
      "\n",
      "Type get.function_list() to get a list of the main methods\n",
      "\n"
     ]
    }
   ],
   "source": [
    "# Run the script (change the path to GrainSizeTools_script.py!)\n",
    "%run C:/Users/marco/Documents/GitHub/GrainSizeTools/grain_size_tools/GrainSizeTools_script.py"
   ]
  },
  {
   "cell_type": "markdown",
   "metadata": {},
   "source": [
    "Note that for the above code execution to work you must set your own path that indicates where the file ``GrainSizeTools_script.py`` is located in your system. If the script was executed correctly you will see that all GrainSizeTools (GST) modules have been loaded correctly and a welcome message.\n",
    "\n",
    "## Import the example dataset and create a toy dataset\n",
    "\n",
    "The second step is to import the file data_set.txt that comes with the GST script and contains a example dataset to interact with the script. You can use your own dataset if you prefer."
   ]
  },
  {
   "cell_type": "code",
   "execution_count": 2,
   "metadata": {},
   "outputs": [
    {
     "data": {
      "text/html": [
       "<div>\n",
       "<style scoped>\n",
       "    .dataframe tbody tr th:only-of-type {\n",
       "        vertical-align: middle;\n",
       "    }\n",
       "\n",
       "    .dataframe tbody tr th {\n",
       "        vertical-align: top;\n",
       "    }\n",
       "\n",
       "    .dataframe thead th {\n",
       "        text-align: right;\n",
       "    }\n",
       "</style>\n",
       "<table border=\"1\" class=\"dataframe\">\n",
       "  <thead>\n",
       "    <tr style=\"text-align: right;\">\n",
       "      <th></th>\n",
       "      <th></th>\n",
       "      <th>Area</th>\n",
       "      <th>Circ.</th>\n",
       "      <th>Feret</th>\n",
       "      <th>FeretX</th>\n",
       "      <th>FeretY</th>\n",
       "      <th>FeretAngle</th>\n",
       "      <th>MinFeret</th>\n",
       "      <th>AR</th>\n",
       "      <th>Round</th>\n",
       "      <th>Solidity</th>\n",
       "    </tr>\n",
       "  </thead>\n",
       "  <tbody>\n",
       "    <tr>\n",
       "      <th>0</th>\n",
       "      <td>1</td>\n",
       "      <td>157.25</td>\n",
       "      <td>0.680</td>\n",
       "      <td>18.062</td>\n",
       "      <td>1535.0</td>\n",
       "      <td>0.5</td>\n",
       "      <td>131.634</td>\n",
       "      <td>13.500</td>\n",
       "      <td>1.101</td>\n",
       "      <td>0.908</td>\n",
       "      <td>0.937</td>\n",
       "    </tr>\n",
       "    <tr>\n",
       "      <th>1</th>\n",
       "      <td>2</td>\n",
       "      <td>2059.75</td>\n",
       "      <td>0.771</td>\n",
       "      <td>62.097</td>\n",
       "      <td>753.5</td>\n",
       "      <td>16.5</td>\n",
       "      <td>165.069</td>\n",
       "      <td>46.697</td>\n",
       "      <td>1.314</td>\n",
       "      <td>0.761</td>\n",
       "      <td>0.972</td>\n",
       "    </tr>\n",
       "    <tr>\n",
       "      <th>2</th>\n",
       "      <td>3</td>\n",
       "      <td>1961.50</td>\n",
       "      <td>0.842</td>\n",
       "      <td>57.871</td>\n",
       "      <td>727.0</td>\n",
       "      <td>65.0</td>\n",
       "      <td>71.878</td>\n",
       "      <td>46.923</td>\n",
       "      <td>1.139</td>\n",
       "      <td>0.878</td>\n",
       "      <td>0.972</td>\n",
       "    </tr>\n",
       "    <tr>\n",
       "      <th>3</th>\n",
       "      <td>4</td>\n",
       "      <td>5428.50</td>\n",
       "      <td>0.709</td>\n",
       "      <td>114.657</td>\n",
       "      <td>1494.5</td>\n",
       "      <td>83.5</td>\n",
       "      <td>19.620</td>\n",
       "      <td>63.449</td>\n",
       "      <td>1.896</td>\n",
       "      <td>0.528</td>\n",
       "      <td>0.947</td>\n",
       "    </tr>\n",
       "    <tr>\n",
       "      <th>4</th>\n",
       "      <td>5</td>\n",
       "      <td>374.00</td>\n",
       "      <td>0.699</td>\n",
       "      <td>29.262</td>\n",
       "      <td>2328.0</td>\n",
       "      <td>34.0</td>\n",
       "      <td>33.147</td>\n",
       "      <td>16.000</td>\n",
       "      <td>1.515</td>\n",
       "      <td>0.660</td>\n",
       "      <td>0.970</td>\n",
       "    </tr>\n",
       "    <tr>\n",
       "      <th>...</th>\n",
       "      <td>...</td>\n",
       "      <td>...</td>\n",
       "      <td>...</td>\n",
       "      <td>...</td>\n",
       "      <td>...</td>\n",
       "      <td>...</td>\n",
       "      <td>...</td>\n",
       "      <td>...</td>\n",
       "      <td>...</td>\n",
       "      <td>...</td>\n",
       "      <td>...</td>\n",
       "    </tr>\n",
       "    <tr>\n",
       "      <th>2656</th>\n",
       "      <td>2657</td>\n",
       "      <td>452.50</td>\n",
       "      <td>0.789</td>\n",
       "      <td>28.504</td>\n",
       "      <td>1368.0</td>\n",
       "      <td>1565.5</td>\n",
       "      <td>127.875</td>\n",
       "      <td>22.500</td>\n",
       "      <td>1.235</td>\n",
       "      <td>0.810</td>\n",
       "      <td>0.960</td>\n",
       "    </tr>\n",
       "    <tr>\n",
       "      <th>2657</th>\n",
       "      <td>2658</td>\n",
       "      <td>1081.25</td>\n",
       "      <td>0.756</td>\n",
       "      <td>47.909</td>\n",
       "      <td>1349.5</td>\n",
       "      <td>1569.5</td>\n",
       "      <td>108.246</td>\n",
       "      <td>31.363</td>\n",
       "      <td>1.446</td>\n",
       "      <td>0.692</td>\n",
       "      <td>0.960</td>\n",
       "    </tr>\n",
       "    <tr>\n",
       "      <th>2658</th>\n",
       "      <td>2659</td>\n",
       "      <td>513.50</td>\n",
       "      <td>0.720</td>\n",
       "      <td>32.962</td>\n",
       "      <td>1373.0</td>\n",
       "      <td>1586.0</td>\n",
       "      <td>112.286</td>\n",
       "      <td>20.496</td>\n",
       "      <td>1.493</td>\n",
       "      <td>0.670</td>\n",
       "      <td>0.953</td>\n",
       "    </tr>\n",
       "    <tr>\n",
       "      <th>2659</th>\n",
       "      <td>2660</td>\n",
       "      <td>277.75</td>\n",
       "      <td>0.627</td>\n",
       "      <td>29.436</td>\n",
       "      <td>1316.0</td>\n",
       "      <td>1601.5</td>\n",
       "      <td>159.102</td>\n",
       "      <td>17.002</td>\n",
       "      <td>1.727</td>\n",
       "      <td>0.579</td>\n",
       "      <td>0.920</td>\n",
       "    </tr>\n",
       "    <tr>\n",
       "      <th>2660</th>\n",
       "      <td>2661</td>\n",
       "      <td>725.00</td>\n",
       "      <td>0.748</td>\n",
       "      <td>39.437</td>\n",
       "      <td>1335.5</td>\n",
       "      <td>1615.5</td>\n",
       "      <td>129.341</td>\n",
       "      <td>28.025</td>\n",
       "      <td>1.351</td>\n",
       "      <td>0.740</td>\n",
       "      <td>0.960</td>\n",
       "    </tr>\n",
       "  </tbody>\n",
       "</table>\n",
       "<p>2661 rows × 11 columns</p>\n",
       "</div>"
      ],
      "text/plain": [
       "               Area  Circ.    Feret  FeretX  FeretY  FeretAngle  MinFeret  \\\n",
       "0        1   157.25  0.680   18.062  1535.0     0.5     131.634    13.500   \n",
       "1        2  2059.75  0.771   62.097   753.5    16.5     165.069    46.697   \n",
       "2        3  1961.50  0.842   57.871   727.0    65.0      71.878    46.923   \n",
       "3        4  5428.50  0.709  114.657  1494.5    83.5      19.620    63.449   \n",
       "4        5   374.00  0.699   29.262  2328.0    34.0      33.147    16.000   \n",
       "...    ...      ...    ...      ...     ...     ...         ...       ...   \n",
       "2656  2657   452.50  0.789   28.504  1368.0  1565.5     127.875    22.500   \n",
       "2657  2658  1081.25  0.756   47.909  1349.5  1569.5     108.246    31.363   \n",
       "2658  2659   513.50  0.720   32.962  1373.0  1586.0     112.286    20.496   \n",
       "2659  2660   277.75  0.627   29.436  1316.0  1601.5     159.102    17.002   \n",
       "2660  2661   725.00  0.748   39.437  1335.5  1615.5     129.341    28.025   \n",
       "\n",
       "         AR  Round  Solidity  \n",
       "0     1.101  0.908     0.937  \n",
       "1     1.314  0.761     0.972  \n",
       "2     1.139  0.878     0.972  \n",
       "3     1.896  0.528     0.947  \n",
       "4     1.515  0.660     0.970  \n",
       "...     ...    ...       ...  \n",
       "2656  1.235  0.810     0.960  \n",
       "2657  1.446  0.692     0.960  \n",
       "2658  1.493  0.670     0.953  \n",
       "2659  1.727  0.579     0.920  \n",
       "2660  1.351  0.740     0.960  \n",
       "\n",
       "[2661 rows x 11 columns]"
      ]
     },
     "execution_count": 2,
     "metadata": {},
     "output_type": "execute_result"
    }
   ],
   "source": [
    "# we will use the pandas method read_csv and store the dataset in a variable named df\n",
    "dataset = pd.read_csv('DATA/data_set.txt', sep='\\t')\n",
    "dataset"
   ]
  },
  {
   "cell_type": "markdown",
   "metadata": {},
   "source": [
    "Some important things to note about the code snippet used above are:\n",
    "- We used the ``read_csv`` method to import the file. By default, this method sets the separator to a comma (note that csv means comma-separated values), in this case the imported file is a text file separated by tabs and then we must set ``'\\t'`` as separator.\n",
    "- We didn't have to define the full path to find the file *data_set.txt*. This is because when we run the script, the reference working directory is the one that contains the script. Since our file *data_set.txt* is within this directory, specifically within the \"DATA\" folder, it is not necessary to define the complete path but the relative one. You can define the full path if you wish.\n",
    "- When calling the variable ``df`` it returs a visualization of the dataset imported, which is a tabular-like dataset with 2661 entries and 11 columns with different grain properties.\n",
    "\n",
    "In Python, this type of tabular-like objects are called (Pandas) dataframes and allow a flexible and easy to use data analysis. Just for checking:"
   ]
  },
  {
   "cell_type": "code",
   "execution_count": 3,
   "metadata": {},
   "outputs": [
    {
     "data": {
      "text/plain": [
       "pandas.core.frame.DataFrame"
      ]
     },
     "execution_count": 3,
     "metadata": {},
     "output_type": "execute_result"
    }
   ],
   "source": [
    "type(dataset)  # show the variable type"
   ]
  },
  {
   "cell_type": "markdown",
   "metadata": {},
   "source": [
    "If you want to view or interact with one of the columns you can do it as follows:"
   ]
  },
  {
   "cell_type": "code",
   "execution_count": 4,
   "metadata": {},
   "outputs": [
    {
     "data": {
      "text/plain": [
       "0        157.25\n",
       "1       2059.75\n",
       "2       1961.50\n",
       "3       5428.50\n",
       "4        374.00\n",
       "         ...   \n",
       "2656     452.50\n",
       "2657    1081.25\n",
       "2658     513.50\n",
       "2659     277.75\n",
       "2660     725.00\n",
       "Name: Area, Length: 2661, dtype: float64"
      ]
     },
     "execution_count": 4,
     "metadata": {},
     "output_type": "execute_result"
    }
   ],
   "source": [
    "dataset['Area']  # view the column 'Area'"
   ]
  },
  {
   "cell_type": "code",
   "execution_count": 5,
   "metadata": {},
   "outputs": [
    {
     "data": {
      "text/html": [
       "<div>\n",
       "<style scoped>\n",
       "    .dataframe tbody tr th:only-of-type {\n",
       "        vertical-align: middle;\n",
       "    }\n",
       "\n",
       "    .dataframe tbody tr th {\n",
       "        vertical-align: top;\n",
       "    }\n",
       "\n",
       "    .dataframe thead th {\n",
       "        text-align: right;\n",
       "    }\n",
       "</style>\n",
       "<table border=\"1\" class=\"dataframe\">\n",
       "  <thead>\n",
       "    <tr style=\"text-align: right;\">\n",
       "      <th></th>\n",
       "      <th></th>\n",
       "      <th>Area</th>\n",
       "      <th>Circ.</th>\n",
       "      <th>Feret</th>\n",
       "      <th>FeretX</th>\n",
       "      <th>FeretY</th>\n",
       "      <th>FeretAngle</th>\n",
       "      <th>MinFeret</th>\n",
       "      <th>AR</th>\n",
       "      <th>Round</th>\n",
       "      <th>Solidity</th>\n",
       "    </tr>\n",
       "  </thead>\n",
       "  <tbody>\n",
       "    <tr>\n",
       "      <th>0</th>\n",
       "      <td>1</td>\n",
       "      <td>157.25</td>\n",
       "      <td>0.680</td>\n",
       "      <td>18.062</td>\n",
       "      <td>1535.0</td>\n",
       "      <td>0.5</td>\n",
       "      <td>131.634</td>\n",
       "      <td>13.500</td>\n",
       "      <td>1.101</td>\n",
       "      <td>0.908</td>\n",
       "      <td>0.937</td>\n",
       "    </tr>\n",
       "    <tr>\n",
       "      <th>1</th>\n",
       "      <td>2</td>\n",
       "      <td>2059.75</td>\n",
       "      <td>0.771</td>\n",
       "      <td>62.097</td>\n",
       "      <td>753.5</td>\n",
       "      <td>16.5</td>\n",
       "      <td>165.069</td>\n",
       "      <td>46.697</td>\n",
       "      <td>1.314</td>\n",
       "      <td>0.761</td>\n",
       "      <td>0.972</td>\n",
       "    </tr>\n",
       "    <tr>\n",
       "      <th>2</th>\n",
       "      <td>3</td>\n",
       "      <td>1961.50</td>\n",
       "      <td>0.842</td>\n",
       "      <td>57.871</td>\n",
       "      <td>727.0</td>\n",
       "      <td>65.0</td>\n",
       "      <td>71.878</td>\n",
       "      <td>46.923</td>\n",
       "      <td>1.139</td>\n",
       "      <td>0.878</td>\n",
       "      <td>0.972</td>\n",
       "    </tr>\n",
       "    <tr>\n",
       "      <th>3</th>\n",
       "      <td>4</td>\n",
       "      <td>5428.50</td>\n",
       "      <td>0.709</td>\n",
       "      <td>114.657</td>\n",
       "      <td>1494.5</td>\n",
       "      <td>83.5</td>\n",
       "      <td>19.620</td>\n",
       "      <td>63.449</td>\n",
       "      <td>1.896</td>\n",
       "      <td>0.528</td>\n",
       "      <td>0.947</td>\n",
       "    </tr>\n",
       "    <tr>\n",
       "      <th>4</th>\n",
       "      <td>5</td>\n",
       "      <td>374.00</td>\n",
       "      <td>0.699</td>\n",
       "      <td>29.262</td>\n",
       "      <td>2328.0</td>\n",
       "      <td>34.0</td>\n",
       "      <td>33.147</td>\n",
       "      <td>16.000</td>\n",
       "      <td>1.515</td>\n",
       "      <td>0.660</td>\n",
       "      <td>0.970</td>\n",
       "    </tr>\n",
       "  </tbody>\n",
       "</table>\n",
       "</div>"
      ],
      "text/plain": [
       "         Area  Circ.    Feret  FeretX  FeretY  FeretAngle  MinFeret     AR  \\\n",
       "0  1   157.25  0.680   18.062  1535.0     0.5     131.634    13.500  1.101   \n",
       "1  2  2059.75  0.771   62.097   753.5    16.5     165.069    46.697  1.314   \n",
       "2  3  1961.50  0.842   57.871   727.0    65.0      71.878    46.923  1.139   \n",
       "3  4  5428.50  0.709  114.657  1494.5    83.5      19.620    63.449  1.896   \n",
       "4  5   374.00  0.699   29.262  2328.0    34.0      33.147    16.000  1.515   \n",
       "\n",
       "   Round  Solidity  \n",
       "0  0.908     0.937  \n",
       "1  0.761     0.972  \n",
       "2  0.878     0.972  \n",
       "3  0.528     0.947  \n",
       "4  0.660     0.970  "
      ]
     },
     "execution_count": 5,
     "metadata": {},
     "output_type": "execute_result"
    }
   ],
   "source": [
    "dataset.head()  # show the first columns of the dataset"
   ]
  },
  {
   "cell_type": "markdown",
   "metadata": {},
   "source": [
    "As you can see above, our dataset does not contain any column with the grain diameters and therefore we have to estimate them. For that we are going estimate the apparent diameters from the section areas using the equivalent circular diameter (ECD) formula which is\n",
    "\n",
    "$ECD = 2 \\cdot \\sqrt{areas / \\pi}$"
   ]
  },
  {
   "cell_type": "code",
   "execution_count": 6,
   "metadata": {},
   "outputs": [
    {
     "data": {
      "text/html": [
       "<div>\n",
       "<style scoped>\n",
       "    .dataframe tbody tr th:only-of-type {\n",
       "        vertical-align: middle;\n",
       "    }\n",
       "\n",
       "    .dataframe tbody tr th {\n",
       "        vertical-align: top;\n",
       "    }\n",
       "\n",
       "    .dataframe thead th {\n",
       "        text-align: right;\n",
       "    }\n",
       "</style>\n",
       "<table border=\"1\" class=\"dataframe\">\n",
       "  <thead>\n",
       "    <tr style=\"text-align: right;\">\n",
       "      <th></th>\n",
       "      <th></th>\n",
       "      <th>Area</th>\n",
       "      <th>Circ.</th>\n",
       "      <th>Feret</th>\n",
       "      <th>FeretX</th>\n",
       "      <th>FeretY</th>\n",
       "      <th>FeretAngle</th>\n",
       "      <th>MinFeret</th>\n",
       "      <th>AR</th>\n",
       "      <th>Round</th>\n",
       "      <th>Solidity</th>\n",
       "      <th>diameters</th>\n",
       "    </tr>\n",
       "  </thead>\n",
       "  <tbody>\n",
       "    <tr>\n",
       "      <th>0</th>\n",
       "      <td>1</td>\n",
       "      <td>157.25</td>\n",
       "      <td>0.680</td>\n",
       "      <td>18.062</td>\n",
       "      <td>1535.0</td>\n",
       "      <td>0.5</td>\n",
       "      <td>131.634</td>\n",
       "      <td>13.500</td>\n",
       "      <td>1.101</td>\n",
       "      <td>0.908</td>\n",
       "      <td>0.937</td>\n",
       "      <td>14.149803</td>\n",
       "    </tr>\n",
       "    <tr>\n",
       "      <th>1</th>\n",
       "      <td>2</td>\n",
       "      <td>2059.75</td>\n",
       "      <td>0.771</td>\n",
       "      <td>62.097</td>\n",
       "      <td>753.5</td>\n",
       "      <td>16.5</td>\n",
       "      <td>165.069</td>\n",
       "      <td>46.697</td>\n",
       "      <td>1.314</td>\n",
       "      <td>0.761</td>\n",
       "      <td>0.972</td>\n",
       "      <td>51.210889</td>\n",
       "    </tr>\n",
       "    <tr>\n",
       "      <th>2</th>\n",
       "      <td>3</td>\n",
       "      <td>1961.50</td>\n",
       "      <td>0.842</td>\n",
       "      <td>57.871</td>\n",
       "      <td>727.0</td>\n",
       "      <td>65.0</td>\n",
       "      <td>71.878</td>\n",
       "      <td>46.923</td>\n",
       "      <td>1.139</td>\n",
       "      <td>0.878</td>\n",
       "      <td>0.972</td>\n",
       "      <td>49.974587</td>\n",
       "    </tr>\n",
       "    <tr>\n",
       "      <th>3</th>\n",
       "      <td>4</td>\n",
       "      <td>5428.50</td>\n",
       "      <td>0.709</td>\n",
       "      <td>114.657</td>\n",
       "      <td>1494.5</td>\n",
       "      <td>83.5</td>\n",
       "      <td>19.620</td>\n",
       "      <td>63.449</td>\n",
       "      <td>1.896</td>\n",
       "      <td>0.528</td>\n",
       "      <td>0.947</td>\n",
       "      <td>83.137121</td>\n",
       "    </tr>\n",
       "    <tr>\n",
       "      <th>4</th>\n",
       "      <td>5</td>\n",
       "      <td>374.00</td>\n",
       "      <td>0.699</td>\n",
       "      <td>29.262</td>\n",
       "      <td>2328.0</td>\n",
       "      <td>34.0</td>\n",
       "      <td>33.147</td>\n",
       "      <td>16.000</td>\n",
       "      <td>1.515</td>\n",
       "      <td>0.660</td>\n",
       "      <td>0.970</td>\n",
       "      <td>21.821815</td>\n",
       "    </tr>\n",
       "    <tr>\n",
       "      <th>5</th>\n",
       "      <td>6</td>\n",
       "      <td>606.75</td>\n",
       "      <td>0.645</td>\n",
       "      <td>42.521</td>\n",
       "      <td>2293.5</td>\n",
       "      <td>19.5</td>\n",
       "      <td>131.186</td>\n",
       "      <td>20.829</td>\n",
       "      <td>2.021</td>\n",
       "      <td>0.495</td>\n",
       "      <td>0.946</td>\n",
       "      <td>27.794570</td>\n",
       "    </tr>\n",
       "    <tr>\n",
       "      <th>6</th>\n",
       "      <td>7</td>\n",
       "      <td>1105.25</td>\n",
       "      <td>0.682</td>\n",
       "      <td>52.787</td>\n",
       "      <td>2247.0</td>\n",
       "      <td>35.5</td>\n",
       "      <td>174.019</td>\n",
       "      <td>29.766</td>\n",
       "      <td>1.741</td>\n",
       "      <td>0.574</td>\n",
       "      <td>0.955</td>\n",
       "      <td>37.513304</td>\n",
       "    </tr>\n",
       "    <tr>\n",
       "      <th>7</th>\n",
       "      <td>8</td>\n",
       "      <td>800.75</td>\n",
       "      <td>0.744</td>\n",
       "      <td>42.030</td>\n",
       "      <td>2405.0</td>\n",
       "      <td>57.5</td>\n",
       "      <td>32.367</td>\n",
       "      <td>29.009</td>\n",
       "      <td>1.498</td>\n",
       "      <td>0.667</td>\n",
       "      <td>0.955</td>\n",
       "      <td>31.930339</td>\n",
       "    </tr>\n",
       "    <tr>\n",
       "      <th>8</th>\n",
       "      <td>9</td>\n",
       "      <td>1848.25</td>\n",
       "      <td>0.782</td>\n",
       "      <td>60.618</td>\n",
       "      <td>814.5</td>\n",
       "      <td>32.5</td>\n",
       "      <td>118.045</td>\n",
       "      <td>44.729</td>\n",
       "      <td>1.306</td>\n",
       "      <td>0.765</td>\n",
       "      <td>0.972</td>\n",
       "      <td>48.510463</td>\n",
       "    </tr>\n",
       "    <tr>\n",
       "      <th>9</th>\n",
       "      <td>10</td>\n",
       "      <td>1916.00</td>\n",
       "      <td>0.744</td>\n",
       "      <td>59.112</td>\n",
       "      <td>2327.0</td>\n",
       "      <td>35.5</td>\n",
       "      <td>125.707</td>\n",
       "      <td>44.136</td>\n",
       "      <td>1.357</td>\n",
       "      <td>0.737</td>\n",
       "      <td>0.932</td>\n",
       "      <td>49.391568</td>\n",
       "    </tr>\n",
       "  </tbody>\n",
       "</table>\n",
       "</div>"
      ],
      "text/plain": [
       "          Area  Circ.    Feret  FeretX  FeretY  FeretAngle  MinFeret     AR  \\\n",
       "0   1   157.25  0.680   18.062  1535.0     0.5     131.634    13.500  1.101   \n",
       "1   2  2059.75  0.771   62.097   753.5    16.5     165.069    46.697  1.314   \n",
       "2   3  1961.50  0.842   57.871   727.0    65.0      71.878    46.923  1.139   \n",
       "3   4  5428.50  0.709  114.657  1494.5    83.5      19.620    63.449  1.896   \n",
       "4   5   374.00  0.699   29.262  2328.0    34.0      33.147    16.000  1.515   \n",
       "5   6   606.75  0.645   42.521  2293.5    19.5     131.186    20.829  2.021   \n",
       "6   7  1105.25  0.682   52.787  2247.0    35.5     174.019    29.766  1.741   \n",
       "7   8   800.75  0.744   42.030  2405.0    57.5      32.367    29.009  1.498   \n",
       "8   9  1848.25  0.782   60.618   814.5    32.5     118.045    44.729  1.306   \n",
       "9  10  1916.00  0.744   59.112  2327.0    35.5     125.707    44.136  1.357   \n",
       "\n",
       "   Round  Solidity  diameters  \n",
       "0  0.908     0.937  14.149803  \n",
       "1  0.761     0.972  51.210889  \n",
       "2  0.878     0.972  49.974587  \n",
       "3  0.528     0.947  83.137121  \n",
       "4  0.660     0.970  21.821815  \n",
       "5  0.495     0.946  27.794570  \n",
       "6  0.574     0.955  37.513304  \n",
       "7  0.667     0.955  31.930339  \n",
       "8  0.765     0.972  48.510463  \n",
       "9  0.737     0.932  49.391568  "
      ]
     },
     "execution_count": 6,
     "metadata": {},
     "output_type": "execute_result"
    }
   ],
   "source": [
    "# Estimate the ECDs and store them in a column named 'diameters'\n",
    "dataset['diameters'] = 2 * np.sqrt(dataset['Area'] / np.pi)\n",
    "dataset.head(10)"
   ]
  },
  {
   "cell_type": "markdown",
   "metadata": {},
   "source": [
    "You can see a new column named diameters. In addition, to play with the script we will create a synthetic lognormal dataset of size 500 with a scale (geometric mean) equal to 20 and a lognormal shape (MSD) of 1.5."
   ]
  },
  {
   "cell_type": "code",
   "execution_count": 7,
   "metadata": {},
   "outputs": [],
   "source": [
    "scale = np.log(20)  # set sample geometric mean to 20\n",
    "shape = np.log(1.5)  # set the lognormal shape to 1.5\n",
    "\n",
    "# generate a random lognormal population of size 500\n",
    "np.random.seed(seed=1)  # this is to generate always the same population\n",
    "toy_dataset = np.random.lognormal(mean=scale, sigma=shape, size=500)"
   ]
  },
  {
   "cell_type": "markdown",
   "metadata": {},
   "source": [
    "## Getting a description of the grain size population\n",
    "\n",
    "We are going to describe the properties of the grain size population. First, we are going to visualize the list of main functions."
   ]
  },
  {
   "cell_type": "code",
   "execution_count": 8,
   "metadata": {},
   "outputs": [
    {
     "name": "stdout",
     "output_type": "stream",
     "text": [
      "\n",
      "======================================================================================\n",
      "List of main functions\n",
      "======================================================================================\n",
      "summarize              -> get the properties of the data population\n",
      "conf_interval          -> estimate a robust confidence interval using the t-distribution\n",
      "calc_diffstress        -> estimate diff. stress from grain size using piezometers\n",
      "\n",
      "plot.distribution      -> visualize the distribution of grain sizes and locate the averages\n",
      "plot.qq_plot           -> test the lognormality of the dataset (q-q plot + Shapiro-Wilk test)\n",
      "plot.area_weighted     -> visualize the area-weighed distribution of grain sizes\n",
      "plot.normalized        -> visualize a normalized distribution of grain sizes\n",
      "\n",
      "stereology.Saltykov    -> approximate the actual grain size distribution via the Saltykov method\n",
      "stereology.calc_shape  -> approximate the lognormal shape of the actual distribution\n",
      "======================================================================================\n",
      "\n",
      "You can get more information about the methods using the following ways:\n",
      "    (1) Typing help plus the name of the function e.g. help(summarize)\n",
      "    (2) In the Spyder IDE by writing the name of the function and clicking Ctrl + I\n",
      "    (3) Visiting the script documentation at \n",
      "\n"
     ]
    }
   ],
   "source": [
    "get.functions_list()"
   ]
  },
  {
   "cell_type": "markdown",
   "metadata": {},
   "source": [
    "So, the method to use for getting the properties of the data population is named ``summarize``. For this we call the function ```summarize()``` and pass the dataset. Let's do it with the synthetic data first:"
   ]
  },
  {
   "cell_type": "code",
   "execution_count": 9,
   "metadata": {},
   "outputs": [
    {
     "name": "stdout",
     "output_type": "stream",
     "text": [
      " \n",
      "============================================================================\n",
      "CENTRAL TENDENCY ESTIMATORS\n",
      "============================================================================\n",
      "Arithmetic mean = 22.13 microns\n",
      "Confidence intervals at 95.0 %\n",
      "mCox method: 21.35 - 22.98 (-3.5%, +3.8%), length = 1.623\n",
      "============================================================================\n",
      "Geometric mean = 20.44 microns\n",
      "Confidence interval at 95.0 %\n",
      "CLT method: 19.73 - 21.17 (-3.5%, +3.6%), length = 1.441\n",
      "============================================================================\n",
      "Median = 20.32 microns\n",
      "Confidence interval at 95.0 %\n",
      "robust method: 19.33 - 21.42 (-4.9%, +5.4%), length = 2.096\n",
      "============================================================================\n",
      "Mode (KDE-based) = 17.66 microns\n",
      "Maximum precision set to 0.1\n",
      "KDE bandwidth = 2.78 (silverman rule)\n",
      " \n",
      "============================================================================\n",
      "DISTRIBUTION FEATURES\n",
      "============================================================================\n",
      "Sample size (n) = 500\n",
      "Standard deviation = 9.07 (1-sigma)\n",
      "Interquartile range (IQR) = 11.44\n",
      "Lognormal shape (Multiplicative Standard Deviation) = 1.49\n",
      "============================================================================\n",
      "Shapiro-Wilk test warnings:\n",
      "Data is not normally distributed!\n",
      "Normality test: 0.93, 0.00 (test statistic, p-value)\n",
      "============================================================================\n"
     ]
    }
   ],
   "source": [
    "summarize(toy_dataset)"
   ]
  },
  {
   "cell_type": "markdown",
   "metadata": {},
   "source": [
    "The ``summarize`` method returns different central tendency estimators (averages), the confidence intervals, and several distribution features such as dispersion and shape. Also a Shapiro-Wilk warning telling as that our distribution is not normally distributed, which is to be expected since we know that this is a lognormal distribution. Note that the geometric mean and the lognormal shape are very close to the values used to generate the syntethic dataset, 20 and 1.5 respectively. Let's do the same using the dataset that comes from a real rock, for this we have to pass the column with the diameters:"
   ]
  },
  {
   "cell_type": "code",
   "execution_count": 10,
   "metadata": {},
   "outputs": [
    {
     "name": "stdout",
     "output_type": "stream",
     "text": [
      " \n",
      "============================================================================\n",
      "CENTRAL TENDENCY ESTIMATORS\n",
      "============================================================================\n",
      "Arithmetic mean = 34.79 microns\n",
      "Confidence intervals at 95.0 %\n",
      "ASTM method: 34.09 - 35.48, (±2.0%), length = 1.393\n",
      "============================================================================\n",
      "Geometric mean = 30.10 microns\n",
      "Confidence interval at 95.0 %\n",
      "CLT method: 29.47 - 30.75 (-2.1%, +2.2%), length = 1.283\n",
      "============================================================================\n",
      "Median = 31.53 microns\n",
      "Confidence interval at 95.0 %\n",
      "robust method: 30.84 - 32.81 (-2.2%, +4.1%), length = 1.970\n",
      "============================================================================\n",
      "Mode (KDE-based) = 24.31 microns\n",
      "Maximum precision set to 0.1\n",
      "KDE bandwidth = 4.01 (silverman rule)\n",
      " \n",
      "============================================================================\n",
      "DISTRIBUTION FEATURES\n",
      "============================================================================\n",
      "Sample size (n) = 2661\n",
      "Standard deviation = 18.32 (1-sigma)\n",
      "Interquartile range (IQR) = 23.98\n",
      "Lognormal shape (Multiplicative Standard Deviation) = 1.75\n",
      "============================================================================\n",
      "Shapiro-Wilk test warnings:\n",
      "Data is not normally distributed!\n",
      "Normality test: 0.94, 0.00 (test statistic, p-value)\n",
      "Data is not lognormally distributed!\n",
      "Lognormality test: 0.99, 0.00 (test statistic, p-value)\n",
      "============================================================================\n"
     ]
    }
   ],
   "source": [
    "summarize(dataset['diameters'])"
   ]
  },
  {
   "cell_type": "markdown",
   "metadata": {},
   "source": [
    "TODO\n",
    "We will also visualize the grain size population using the ``plot.distribution()`` function of the plot module:"
   ]
  },
  {
   "cell_type": "code",
   "execution_count": 11,
   "metadata": {},
   "outputs": [
    {
     "name": "stdout",
     "output_type": "stream",
     "text": [
      "=======================================\n",
      "Number of classes =  45\n",
      "binsize =  3.41\n",
      "=======================================\n",
      "=======================================\n",
      "KDE bandwidth =  4.01\n",
      "=======================================\n"
     ]
    },
    {
     "data": {
      "image/png": "[encoded data removed]",
      "text/plain": [
       "<Figure size 432x288 with 1 Axes>"
      ]
     },
     "metadata": {},
     "output_type": "display_data"
    }
   ],
   "source": [
    "fig, ax = plot.distribution(dataset['diameters'])  # this is just to show the plot in the notebook"
   ]
  },
  {
   "cell_type": "markdown",
   "metadata": {},
   "source": [
    "> 👉 Note that when calling ``plot.distribution()`` we save two variables ``fig`` and ``ax``. The variable ``fig`` stems for figure and ``ax`` for the axe to the current figure*. This is not compulsory. Indeed, you can directly write ``plot.distribution(dataset['diameters'])`` to get the inline plot. However, if you want to save or tweak the plot you will need the ``fig`` and ``ax`` variables (or any name you prefer). The variable ``fig`` allows you to save the plot (see an example below) among other things. On the other hand, the ``ax`` allows you to tweak the axe of the plot, some examples would be:\n",
    ">\n",
    "> ``ax.set_xlabel('diameter ($\\mu m$)', color='red')  # set a different label for x``\n",
    "> ``ax.set_ylabel('density', fontsize=18)  # increase the label font size for y``\n",
    "> ``ax.legend(loc='lower right', fontsize=18) # change the position of the legend``\n",
    "> ...\n",
    ">\n",
    "> *If you can't tell the difference between a figure and an axe check the elements of a figure here: https://matplotlib.org/3.2.1/gallery/showcase/anatomy.html"
   ]
  },
  {
   "cell_type": "code",
   "execution_count": 12,
   "metadata": {},
   "outputs": [],
   "source": [
    "# If you want to save the plot in your hard disk\n",
    "fig.savefig(\"test_distribution.png\", dpi=300)"
   ]
  },
  {
   "cell_type": "markdown",
   "metadata": {},
   "source": [
    "Now, let's plot the area weighted distribution"
   ]
  },
  {
   "cell_type": "code",
   "execution_count": 13,
   "metadata": {},
   "outputs": [
    {
     "name": "stdout",
     "output_type": "stream",
     "text": [
      "=======================================\n",
      "DESCRIPTIVE STATISTICS\n",
      "Area-weighted mean grain size = 53.88 microns\n",
      "=======================================\n",
      "HISTOGRAM FEATURES\n",
      "The modal interval is 40.85 - 44.26 microns\n",
      "The number of classes are 46\n",
      "The bin size is 3.40 according to the auto rule\n",
      "=======================================\n"
     ]
    },
    {
     "data": {
      "image/png": "[encoded data removed]",
      "text/plain": [
       "<Figure size 432x288 with 1 Axes>"
      ]
     },
     "metadata": {},
     "output_type": "display_data"
    }
   ],
   "source": [
    "fig2, ax = plot.area_weighted(dataset['diameters'], dataset['Area'])"
   ]
  },
  {
   "cell_type": "code",
   "execution_count": 14,
   "metadata": {},
   "outputs": [
    {
     "name": "stdout",
     "output_type": "stream",
     "text": [
      "=======================================\n",
      "Normalized SD = 0.165\n",
      "KDE bandwidth =  0.04\n",
      "=======================================\n"
     ]
    },
    {
     "data": {
      "image/png": "[encoded data removed]",
      "text/plain": [
       "<Figure size 432x288 with 1 Axes>"
      ]
     },
     "metadata": {},
     "output_type": "display_data"
    }
   ],
   "source": [
    "fig3, ax = plot.normalized(dataset['diameters'])"
   ]
  },
  {
   "cell_type": "markdown",
   "metadata": {},
   "source": [
    "## Piezometric analysis"
   ]
  },
  {
   "cell_type": "code",
   "execution_count": 15,
   "metadata": {},
   "outputs": [
    {
     "name": "stdout",
     "output_type": "stream",
     "text": [
      "Available piezometers:\n",
      "'Cross'\n",
      "'Cross_hr'\n",
      "'Holyoke'\n",
      "'Holyoke_BLG'\n",
      "'Shimizu'\n",
      "'Stipp_Tullis'\n",
      "'Stipp_Tullis_BLG'\n",
      "'Twiss'\n"
     ]
    }
   ],
   "source": [
    "piezometers.quartz()"
   ]
  },
  {
   "cell_type": "code",
   "execution_count": 16,
   "metadata": {},
   "outputs": [
    {
     "name": "stdout",
     "output_type": "stream",
     "text": [
      "============================================================================\n",
      "differential stress = 83.65 MPa\n",
      "\n",
      "INFO:\n",
      "Ensure that you entered the apparent grain size as the arithmeic mean grain size\n",
      "ECD was converted to linear intercepts using de Hoff and Rhines (1968) correction\n",
      "============================================================================\n"
     ]
    }
   ],
   "source": [
    "calc_diffstress(12, phase='quartz', piezometer='Twiss')"
   ]
  },
  {
   "cell_type": "code",
   "execution_count": 17,
   "metadata": {},
   "outputs": [
    {
     "name": "stdout",
     "output_type": "stream",
     "text": [
      "============================================================================\n",
      "differential stress = 96.59 MPa\n",
      "\n",
      "INFO:\n",
      "Ensure that you entered the apparent grain size as the arithmeic mean grain size\n",
      "ECD was converted to linear intercepts using de Hoff and Rhines (1968) correction\n",
      "============================================================================\n"
     ]
    }
   ],
   "source": [
    "# you can correct the differential stress estimate for plane strain using\n",
    "# the correction proposed by Paterson and Olgaard (2000)\n",
    "calc_diffstress(12, phase='quartz', piezometer='Twiss', correction=True)"
   ]
  },
  {
   "cell_type": "code",
   "execution_count": 18,
   "metadata": {},
   "outputs": [
    {
     "name": "stdout",
     "output_type": "stream",
     "text": [
      "============================================================================\n",
      "INFO:\n",
      "Ensure that you entered the apparent grain size as the arithmetic mean in linear scale\n",
      "ECD was converted to linear intercepts using de Hoff and Rhines (1968) correction\n",
      "Differential stresses in MPa\n"
     ]
    },
    {
     "data": {
      "text/plain": [
       "array([167.41, 153.66, 162.16, 172.73, 162.83, 185.45])"
      ]
     },
     "execution_count": 18,
     "metadata": {},
     "output_type": "execute_result"
    }
   ],
   "source": [
    "# you can use (numpy) arrays as the input instead of scalar values\n",
    "ameans = np.array([12.23, 13.71, 12.76, 11.73, 12.69, 10.67])\n",
    "calc_diffstress(ameans, phase='olivine', piezometer='VanderWal_wet')"
   ]
  },
  {
   "cell_type": "code",
   "execution_count": 19,
   "metadata": {},
   "outputs": [
    {
     "data": {
      "text/plain": [
       "(1355.4,\n",
       " 0.75,\n",
       " 'Ensure that you entered the apparent grain size as the arithmetic mean in linear scale',\n",
       " True,\n",
       " 1.5)"
      ]
     },
     "execution_count": 19,
     "metadata": {},
     "output_type": "execute_result"
    }
   ],
   "source": [
    "piezometers.olivine('VanderWal_wet')"
   ]
  },
  {
   "cell_type": "code",
   "execution_count": null,
   "metadata": {},
   "outputs": [],
   "source": []
  }
 ],
 "metadata": {
  "kernelspec": {
   "display_name": "Python 3",
   "language": "python",
   "name": "python3"
  },
  "language_info": {
   "codemirror_mode": {
    "name": "ipython",
    "version": 3
   },
   "file_extension": ".py",
   "mimetype": "text/x-python",
   "name": "python",
   "nbconvert_exporter": "python",
   "pygments_lexer": "ipython3",
   "version": "3.7.7"
  }
 },
 "nbformat": 4,
 "nbformat_minor": 4
}
