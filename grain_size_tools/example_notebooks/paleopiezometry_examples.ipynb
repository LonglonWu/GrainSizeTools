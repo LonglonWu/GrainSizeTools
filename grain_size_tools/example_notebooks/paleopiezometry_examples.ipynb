{
 "cells": [
  {
   "cell_type": "markdown",
   "metadata": {},
   "source": [
    "# Paleopiezometry based on dynamically recrystallized grain size"
   ]
  },
  {
   "cell_type": "markdown",
   "metadata": {},
   "source": [
    "The script includes a function for estimating differential stress based on \"average\" recrystallized grain sizes named ``calc_diffstress()``. This function requires\n",
    "\n",
    "- defining the mineral phase and the piezometer relation to use,\n",
    "\n",
    "- entering the (apparent) grain size as the **equivalent circular diameter in microns**,\n",
    "- measured with a **specific type of \"average\" with no stereological correction**,\n",
    "- and set the type of stress, either uniaxial compression/extension or plane stress, for proper stress correction.\n",
    "\n",
    "For the first requirement, the GrainSizeTools script includes common mineral phases such as quartz, calcite, olivine and albite (more available soon) and a large list of piezometer relations (17 so far). Also, the script facilitates to write ad hoc piezometric relations.\n",
    "\n",
    "For the second requirement, the function will automatically convert the equivalent circular diameter to linear intercepts where applicable using de Hoff and Rhines (1968) correction. This is, **you don't have to worry about whether the piezometer was originally calibrated using linear intercepts**, always use the equivalent circular diameters in microns.\n",
    "\n",
    "The third requirement is key for a correct estimation of the differential stress since each paleopiezometer was calibrated for a specific average grain size (e.g. the arithmetic mean, median, or RMS mean) and, hence, **only provides valid results if the same type of average is used**. Also, **you should not use any type of stereological correction for the estimation of the average grain size**, if the author(s) of the piezometer used any type of stereological correction, the average grain size will be automatically corrected by the function. \n",
    "\n",
    "The fourth requirement means that the user has to decide whether to correct or not the estimate of the differential stress for plane stress using the correction factor proposed by Paterson and Olgaard (2000). The rationale for this is that the experiments designed to calibrate piezometers are mainly performed in uniaxial compression while natural shear zones approximately behave as plane stress volumes.\n",
    "\n",
    "Below are examples of how to obtain information about the different piezometers and define these parameters.\n"
   ]
  },
  {
   "cell_type": "markdown",
   "metadata": {},
   "source": [
    "## Get information on piezometric relations\n",
    "\n",
    "You can get information from the console on the different available piezometric relations  just by typing ``piezometers.*()``, where * is the mineral phase, either ``quartz``, ``calcite``, ``olivine``, or ``feldspar``. For example:"
   ]
  },
  {
   "cell_type": "code",
   "execution_count": 1,
   "metadata": {},
   "outputs": [
    {
     "name": "stdout",
     "output_type": "stream",
     "text": [
      "module plot imported\n",
      "module averages imported\n",
      "module stereology imported\n",
      "module piezometers imported\n",
      "module template imported\n",
      "\n",
      "======================================================================================\n",
      "Welcome to GrainSizeTools script\n",
      "======================================================================================\n",
      "A free open-source cross-platform script to visualize and characterize grain size\n",
      "population and estimate differential stress via paleopizometers.\n",
      "\n",
      "Version: v3.0RC0 (2020-04-23)\n",
      "Documentation: https://marcoalopez.github.io/GrainSizeTools/\n",
      "\n",
      "Type get.functions_list() to get a list of the main methods\n",
      "\n"
     ]
    }
   ],
   "source": [
    "# Load the script first (change the path to GrainSizeTools_script.py accordingly!)\n",
    "%run C:/Users/marco/Documents/GitHub/GrainSizeTools/grain_size_tools/GrainSizeTools_script.py"
   ]
  },
  {
   "cell_type": "code",
   "execution_count": 2,
   "metadata": {},
   "outputs": [
    {
     "name": "stdout",
     "output_type": "stream",
     "text": [
      "Available piezometers:\n",
      "'Cross'\n",
      "'Cross_hr'\n",
      "'Holyoke'\n",
      "'Holyoke_BLG'\n",
      "'Shimizu'\n",
      "'Stipp_Tullis'\n",
      "'Stipp_Tullis_BLG'\n",
      "'Twiss'\n"
     ]
    }
   ],
   "source": [
    "piezometers.quartz()"
   ]
  },
  {
   "cell_type": "code",
   "execution_count": 3,
   "metadata": {},
   "outputs": [
    {
     "data": {
      "text/plain": [
       "(550,\n",
       " 0.68,\n",
       " 'Ensure that you entered the apparent grain size as the arithmeic mean grain size',\n",
       " True,\n",
       " 1.5)"
      ]
     },
     "execution_count": 3,
     "metadata": {},
     "output_type": "execute_result"
    }
   ],
   "source": [
    "piezometers.quartz('Twiss')"
   ]
  },
  {
   "cell_type": "markdown",
   "metadata": {},
   "source": [
    "Note that we obtain five different outputs separated by commas which correspond with:\n",
    "- the constant *B* of the piezometric relation\n",
    "- the exponent *m* of the piezometric relation\n",
    "- A warning indicating the average to use with this piezometric relation\n",
    "- An indication of whether the piezometric relation was established using linear intercepts (if ``False`` the piezometric relation was established using equivalent circular diameters.\n",
    "- The stereological factor used (if applicable). If ``False``, no stereological correction applies.\n",
    "\n",
    "## Using the ``calc_diffstress()`` function\n",
    "\n",
    "Let us first look at the documentation of the:"
   ]
  },
  {
   "cell_type": "code",
   "execution_count": 4,
   "metadata": {},
   "outputs": [
    {
     "data": {
      "text/plain": [
       "\u001b[1;31mSignature:\u001b[0m \u001b[0mcalc_diffstress\u001b[0m\u001b[1;33m(\u001b[0m\u001b[0mgrain_size\u001b[0m\u001b[1;33m,\u001b[0m \u001b[0mphase\u001b[0m\u001b[1;33m,\u001b[0m \u001b[0mpiezometer\u001b[0m\u001b[1;33m,\u001b[0m \u001b[0mcorrection\u001b[0m\u001b[1;33m=\u001b[0m\u001b[1;32mFalse\u001b[0m\u001b[1;33m)\u001b[0m\u001b[1;33m\u001b[0m\u001b[1;33m\u001b[0m\u001b[0m\n",
       "\u001b[1;31mDocstring:\u001b[0m\n",
       "Apply different piezometric relations to estimate the differential\n",
       "stress from average apparent grain sizes. The piezometric relation has\n",
       "the following general form:\n",
       "\n",
       "df = B * grain_size**-m\n",
       "\n",
       "where df is the differential stress in [MPa], B is an experimentally\n",
       "derived parameter in [MPa micron**m], grain_size is the aparent grain\n",
       "size in [microns], and m is an experimentally derived exponent.\n",
       "\n",
       "Parameters\n",
       "----------\n",
       "grain_size : positive scalar or array-like\n",
       "    the apparent grain size in microns\n",
       "\n",
       "phase : string {'quartz', 'olivine', 'calcite', or 'feldspar'}\n",
       "    the mineral phase\n",
       "\n",
       "piezometer : string\n",
       "    the piezometric relation\n",
       "\n",
       "correction : bool, default False\n",
       "    correct the stress values for plane stress (Paterson and Olgaard, 2000)\n",
       "\n",
       " References\n",
       "-----------\n",
       "Paterson and Olgaard (2000) https://doi.org/10.1016/S0191-8141(00)00042-0\n",
       "de Hoff and Rhines (1968) Quantitative Microscopy. Mcgraw-Hill. New York.\n",
       "\n",
       "Call functions\n",
       "--------------\n",
       "piezometers.quartz\n",
       "piezometers.olivine\n",
       "piezometers.calcite\n",
       "piezometers.albite\n",
       "\n",
       "Assumptions\n",
       "-----------\n",
       "- Independence of temperature (excepting Shimizu piezometer), total strain,\n",
       "flow stress, and water content.\n",
       "- Recrystallized grains are equidimensional or close to equidimensional when\n",
       "using a single section.\n",
       "- The piezometer relations requires entering the grain size as \"average\"\n",
       "apparent grain size values calculated using equivalent circular diameters\n",
       "(ECD) with no stereological correction. See documentation for more details.\n",
       "- When required, the grain size value will be converted from ECD to linear\n",
       "intercept (LI) using a correction factor based on de Hoff and Rhines (1968):\n",
       "LI = (correction factor / sqrt(4/pi)) * ECD\n",
       "- Stress estimates can be corrected from uniaxial compression (experiments)\n",
       "to plane strain (nature) multiplying the paleopiezometer by 2/sqrt(3)\n",
       "(Paterson and Olgaard, 2000)\n",
       "\n",
       "Returns\n",
       "-------\n",
       "The differential stress in MPa (a float)\n",
       "\u001b[1;31mFile:\u001b[0m      c:\\users\\marco\\documents\\github\\grainsizetools\\grain_size_tools\\grainsizetools_script.py\n",
       "\u001b[1;31mType:\u001b[0m      function\n"
      ]
     },
     "metadata": {},
     "output_type": "display_data"
    }
   ],
   "source": [
    "?calc_diffstress"
   ]
  },
  {
   "cell_type": "markdown",
   "metadata": {},
   "source": [
    "The ``calc_diffstress`` requires three (obligatory) inputs: (1) the average grain size in microns, (2) the mineral phase, and (3) the piezometric relation to use. We provide few examples below:"
   ]
  },
  {
   "cell_type": "code",
   "execution_count": 5,
   "metadata": {},
   "outputs": [
    {
     "name": "stdout",
     "output_type": "stream",
     "text": [
      "============================================================================\n",
      "differential stress = 83.65 MPa\n",
      "\n",
      "INFO:\n",
      "Ensure that you entered the apparent grain size as the arithmeic mean grain size\n",
      "ECD was converted to linear intercepts using de Hoff and Rhines (1968) correction\n",
      "============================================================================\n"
     ]
    }
   ],
   "source": [
    "calc_diffstress(12, phase='quartz', piezometer='Twiss')"
   ]
  },
  {
   "cell_type": "markdown",
   "metadata": {},
   "source": [
    "The function returns the estimate of the differential stress (in MPa) plus some relevant information about the corrections made and the type of average expected. The differential stress value obtained above...TODO. You can estimate the differential stress or plane strain using the correction proposed by Paterson and Olgaard (2000)"
   ]
  },
  {
   "cell_type": "code",
   "execution_count": 6,
   "metadata": {},
   "outputs": [
    {
     "name": "stdout",
     "output_type": "stream",
     "text": [
      "============================================================================\n",
      "differential stress = 96.59 MPa\n",
      "\n",
      "INFO:\n",
      "Ensure that you entered the apparent grain size as the arithmeic mean grain size\n",
      "ECD was converted to linear intercepts using de Hoff and Rhines (1968) correction\n",
      "============================================================================\n"
     ]
    }
   ],
   "source": [
    "calc_diffstress(12, phase='quartz', piezometer='Twiss', correction=True)"
   ]
  },
  {
   "cell_type": "markdown",
   "metadata": {},
   "source": [
    "Some paleopiezometers require uncommon averages such as the root mean square or RMS, for example:"
   ]
  },
  {
   "cell_type": "code",
   "execution_count": 7,
   "metadata": {},
   "outputs": [
    {
     "data": {
      "text/plain": [
       "(669.0,\n",
       " 0.79,\n",
       " 'Ensure that you entered the apparent grain size as the root mean square (RMS)',\n",
       " False,\n",
       " False)"
      ]
     },
     "execution_count": 7,
     "metadata": {},
     "output_type": "execute_result"
    }
   ],
   "source": [
    "piezometers.quartz('Stipp_Tullis')"
   ]
  },
  {
   "cell_type": "markdown",
   "metadata": {},
   "source": [
    "In this case you should estimate the RMS as  \n",
    "$RMS = \\sqrt{\\dfrac{1}{n} (x_{1}^2 + x_{2}^2 + ... + x_{n}^2)}$"
   ]
  },
  {
   "cell_type": "code",
   "execution_count": 8,
   "metadata": {},
   "outputs": [
    {
     "name": "stdout",
     "output_type": "stream",
     "text": [
      "============================================================================\n",
      "differential stress = 164.65 MPa\n",
      "\n",
      "INFO:\n",
      "Ensure that you entered the apparent grain size as the root mean square (RMS)\n",
      "============================================================================\n"
     ]
    }
   ],
   "source": [
    "filepath = 'C:/Users/marco/Documents/GitHub/GrainSizeTools/grain_size_tools/DATA/data_set.txt'\n",
    "dataset = pd.read_csv(filepath, sep='\\t')  # Import the example dataset\n",
    "dataset['diameters'] = 2 * np.sqrt(dataset['Area'] / np.pi)  # estimate ECD\n",
    "rms = np.sqrt(np.mean(dataset['diameters']))  # estimate the root mean squared\n",
    "\n",
    "calc_diffstress(rms, phase='quartz', piezometer='Stipp_Tullis')"
   ]
  },
  {
   "cell_type": "markdown",
   "metadata": {},
   "source": [
    "## Estimation of the differential stress using arrays of values\n",
    "\n",
    "Alternatively, you can use (numpy) arrays as input instead of scalar values to estimate several differential stresses at once. In this case, the ``calc_diffstress()`` function will return a numpy array, so it is generally more useful to store it in a variable as in the example below."
   ]
  },
  {
   "cell_type": "code",
   "execution_count": 9,
   "metadata": {},
   "outputs": [
    {
     "name": "stdout",
     "output_type": "stream",
     "text": [
      "============================================================================\n",
      "INFO:\n",
      "Ensure that you entered the apparent grain size as the arithmetic mean in linear scale\n",
      "ECD was converted to linear intercepts using de Hoff and Rhines (1968) correction\n",
      "Differential stresses in MPa\n"
     ]
    },
    {
     "data": {
      "text/plain": [
       "array([167.41, 153.66, 162.16, 172.73, 162.83, 185.45])"
      ]
     },
     "execution_count": 9,
     "metadata": {},
     "output_type": "execute_result"
    }
   ],
   "source": [
    "ameans = np.array([12.23, 13.71, 12.76, 11.73, 12.69, 10.67])  # a set of average grain size values\n",
    "estimates = calc_diffstress(ameans, phase='olivine', piezometer='VanderWal_wet')\n",
    "estimates"
   ]
  },
  {
   "cell_type": "markdown",
   "metadata": {},
   "source": [
    "If the set of estimated values belongs to the same structural element (e.g. different areas of the the same mylonite or different rocks within the same shear zone), you may want to estimate an average differential stress from all the data. The GrainSizeTools script provides a method named ``conf_interval()`` for this."
   ]
  },
  {
   "cell_type": "code",
   "execution_count": 10,
   "metadata": {},
   "outputs": [
    {
     "data": {
      "text/plain": [
       "\u001b[1;31mSignature:\u001b[0m \u001b[0mconf_interval\u001b[0m\u001b[1;33m(\u001b[0m\u001b[0mdata\u001b[0m\u001b[1;33m,\u001b[0m \u001b[0mconfidence\u001b[0m\u001b[1;33m=\u001b[0m\u001b[1;36m0.95\u001b[0m\u001b[1;33m)\u001b[0m\u001b[1;33m\u001b[0m\u001b[1;33m\u001b[0m\u001b[0m\n",
       "\u001b[1;31mDocstring:\u001b[0m\n",
       "Estimate the confidence interval using the t-distribution with n-1\n",
       "degrees of freedom t(n-1). This is the way to go when sample size is\n",
       "small (n < 30) and the standard deviation cannot be estimated accurately.\n",
       "For large datasets, the t-distribution approaches the normal distribution.\n",
       "\n",
       "Parameters\n",
       "----------\n",
       "data : array-like\n",
       "    the dataset\n",
       "\n",
       "confidence : float between 0 and 1, optional\n",
       "    the confidence interval, default = 0.95\n",
       "\n",
       "Assumptions\n",
       "-----------\n",
       "the data follows a normal or symmetric distrubution (when sample size\n",
       "is large)\n",
       "\n",
       "call_function(s)\n",
       "----------------\n",
       "Scipy's t.interval\n",
       "\n",
       "Returns\n",
       "-------\n",
       "the arithmetic mean, the error, and the limits of the confidence interval\n",
       "\u001b[1;31mFile:\u001b[0m      c:\\users\\marco\\documents\\github\\grainsizetools\\grain_size_tools\\grainsizetools_script.py\n",
       "\u001b[1;31mType:\u001b[0m      function\n"
      ]
     },
     "metadata": {},
     "output_type": "display_data"
    }
   ],
   "source": [
    "?conf_interval"
   ]
  },
  {
   "cell_type": "code",
   "execution_count": 11,
   "metadata": {},
   "outputs": [
    {
     "name": "stdout",
     "output_type": "stream",
     "text": [
      " \n",
      "Mean = 167.37 ± 11.41\n",
      "Confidence set at 95.0 %\n",
      "Max / min = 178.79 / 155.96\n",
      "Coefficient of variation = 6.8 %\n"
     ]
    },
    {
     "data": {
      "text/plain": [
       "(167.37333333333333, 11.412701448126, (155.96063188520733, 178.78603478145934))"
      ]
     },
     "execution_count": 11,
     "metadata": {},
     "output_type": "execute_result"
    }
   ],
   "source": [
    "conf_interval(estimates)"
   ]
  }
 ],
 "metadata": {
  "kernelspec": {
   "display_name": "Python 3",
   "language": "python",
   "name": "python3"
  },
  "language_info": {
   "codemirror_mode": {
    "name": "ipython",
    "version": 3
   },
   "file_extension": ".py",
   "mimetype": "text/x-python",
   "name": "python",
   "nbconvert_exporter": "python",
   "pygments_lexer": "ipython3",
   "version": "3.7.7"
  }
 },
 "nbformat": 4,
 "nbformat_minor": 4
}
